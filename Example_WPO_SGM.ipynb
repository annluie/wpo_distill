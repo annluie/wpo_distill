{
 "cells": [
  {
   "cell_type": "markdown",
   "metadata": {},
   "source": [
    "# Score-matching informed KDE"
   ]
  },
  {
   "cell_type": "code",
   "execution_count": 1,
   "metadata": {
    "tags": []
   },
   "outputs": [],
   "source": [
    "\"\"\"\n",
    "%pip install memory_profiler\n",
    "%pip install tqdm\n",
    "%pip install matplotlib\n",
    "%pip install scikit-learn\n",
    "%pip install pandas\n",
    "\"\"\"\n",
    "import matplotlib.pyplot as plt\n",
    "import os\n",
    "import sys\n",
    "sys.path.append('..')\n",
    "os.environ[\"PYTORCH_CUDA_ALLOC_CONF\"] = \"expandable_segments:True\"\n",
    "\n",
    "import torch\n",
    "import torch.optim as optim\n",
    "import torch.nn as nn\n",
    "from torch.distributions.multivariate_normal import MultivariateNormal\n",
    "import numpy as np\n",
    "import argparse\n",
    "import pandas as pd\n",
    "from pandas.plotting import scatter_matrix as pdsm\n",
    "#import function_cpu as LearnCholesky\n",
    "from WPO_SGM import toy_data\n",
    "from WPO_SGM import functions_WPO_SGM as LearnCholesky\n",
    "import torch.multiprocessing as mp\n",
    "import logging\n",
    "\n",
    "from memory_profiler import profile\n",
    "from tqdm import trange\n",
    "import time\n",
    "import gc\n",
    "# git testing"
   ]
  },
  {
   "cell_type": "code",
   "execution_count": 2,
   "metadata": {
    "tags": []
   },
   "outputs": [
    {
     "name": "stdout",
     "output_type": "stream",
     "text": [
      "GPU is not available\n",
      "cpu\n"
     ]
    }
   ],
   "source": [
    "import os\n",
    "#os.environ['XLA_PYTHON_CLIENT_PREALLOCATE'] = 'false'\n",
    "#os.environ[\"CUDA_VISIBLE_DEVICES\"]=\"1\"\n",
    "\n",
    "if torch.cuda.is_available():\n",
    "    device = torch.device('cuda')\n",
    "    print(\"GPU is available\")\n",
    "else:\n",
    "    device = torch.device('cpu')\n",
    "    print(\"GPU is not available\")\n",
    "print(device)\n",
    "os.environ[\"PYTORCH_CUDA_ALLOC_CONF\"] = \"max_split_size_mb:32\"\n",
    "\n",
    "#device = torch.device('cpu')\n",
    "torch.set_float32_matmul_precision('high')"
   ]
  },
  {
   "cell_type": "markdown",
   "metadata": {},
   "source": [
    "### Parsing for scripts"
   ]
  },
  {
   "cell_type": "code",
   "execution_count": 3,
   "metadata": {
    "tags": []
   },
   "outputs": [],
   "source": [
    "parser = argparse.ArgumentParser(' ')\n",
    "parser.add_argument('--data', choices=['swissroll', '8gaussians', 'pinwheel', 'circles', 'moons', '2spirals', 'checkerboard', 'rings','swissroll_6D_xy1', 'cifar10'], type = str,default = '2spirals')\n",
    "parser.add_argument('--depth',help = 'number of hidden layers of score network',type =int, default = 5)\n",
    "parser.add_argument('--hiddenunits',help = 'number of nodes per hidden layer', type = int, default = 64)\n",
    "parser.add_argument('--niters',type = int, default = 50000)\n",
    "parser.add_argument('--batch_size', type = int,default = 2)\n",
    "parser.add_argument('--lr',type = float, default = 2e-3) \n",
    "parser.add_argument('--save',type = str,default = 'cifar10_experiments/')\n",
    "parser.add_argument('--train_kernel_size',type = int, default = 10)\n",
    "parser.add_argument('--train_samples_size',type = int, default = 50000)\n",
    "parser.add_argument('--test_samples_size',type = int, default = 5)\n",
    "args = parser.parse_args('')"
   ]
  },
  {
   "cell_type": "code",
   "execution_count": 4,
   "metadata": {},
   "outputs": [
    {
     "name": "stdout",
     "output_type": "stream",
     "text": [
      "save_directory cifar10_experiments/test/\n"
     ]
    }
   ],
   "source": [
    "train_kernel_size = args.train_kernel_size\n",
    "train_samples_size = args.train_samples_size\n",
    "test_samples_size = args.test_samples_size\n",
    "dataset = args.data \n",
    "save_directory = args.save + 'test'+'/'\n",
    "\n",
    "print('save_directory',save_directory)\n",
    "\n",
    "if not os.path.exists(save_directory):\n",
    "    os.makedirs(save_directory)\n",
    "    print('Created directory ' + save_directory)"
   ]
  },
  {
   "cell_type": "markdown",
   "metadata": {},
   "source": [
    "### Precision matrix model"
   ]
  },
  {
   "cell_type": "code",
   "execution_count": 5,
   "metadata": {},
   "outputs": [],
   "source": [
    "## Cholesky factor model\n",
    "def construct_factor_model(dim:int, depth:int, hidden_units:int):\n",
    "    '''\n",
    "    Initializes neural network that models the Cholesky factor of the precision matrix # For nD examples (in theory)\n",
    "    '''\n",
    "    chain = []\n",
    "    chain.append(nn.Linear(dim,int(hidden_units),bias =True)) \n",
    "    chain.append(nn.GELU())\n",
    "\n",
    "    for _ in range(depth-1):\n",
    "        chain.append(nn.Linear(int(hidden_units),int(hidden_units),bias = True))\n",
    "        chain.append(nn.GELU())\n",
    "    chain.append(nn.Linear(int(hidden_units),int(dim*(dim+1)/2),bias = True)) \n",
    "\n",
    "    return nn.Sequential(*chain)   "
   ]
  },
  {
   "cell_type": "markdown",
   "metadata": {},
   "source": [
    "### Helper functions"
   ]
  },
  {
   "cell_type": "code",
   "execution_count": 6,
   "metadata": {},
   "outputs": [
    {
     "ename": "NameError",
     "evalue": "name 'log_filename' is not defined",
     "output_type": "error",
     "traceback": [
      "\u001b[1;31m---------------------------------------------------------------------------\u001b[0m",
      "\u001b[1;31mNameError\u001b[0m                                 Traceback (most recent call last)",
      "Cell \u001b[1;32mIn[6], line 48\u001b[0m\n\u001b[0;32m     38\u001b[0m         log_filename \u001b[38;5;241m=\u001b[39m os\u001b[38;5;241m.\u001b[39mpath\u001b[38;5;241m.\u001b[39mjoin(save, \u001b[38;5;124mf\u001b[39m\u001b[38;5;124m'\u001b[39m\u001b[38;5;124mepoch\u001b[39m\u001b[38;5;132;01m{\u001b[39;00mepoch\u001b[38;5;132;01m}\u001b[39;00m\u001b[38;5;124m_training.log\u001b[39m\u001b[38;5;124m'\u001b[39m)\n\u001b[0;32m     39\u001b[0m         \u001b[38;5;66;03m# log training data\u001b[39;00m\n\u001b[0;32m     40\u001b[0m         \u001b[38;5;66;03m# Construct log filename\u001b[39;00m\n\u001b[0;32m     41\u001b[0m \n\u001b[0;32m     42\u001b[0m \n\u001b[0;32m     43\u001b[0m \u001b[38;5;66;03m# Configure logging to write to this dynamic file (and also console if you want)\u001b[39;00m\n\u001b[0;32m     44\u001b[0m logging\u001b[38;5;241m.\u001b[39mbasicConfig(\n\u001b[0;32m     45\u001b[0m     level\u001b[38;5;241m=\u001b[39mlogging\u001b[38;5;241m.\u001b[39mINFO,\n\u001b[0;32m     46\u001b[0m     \u001b[38;5;28mformat\u001b[39m\u001b[38;5;241m=\u001b[39m\u001b[38;5;124m'\u001b[39m\u001b[38;5;132;01m%(asctime)s\u001b[39;00m\u001b[38;5;124m - \u001b[39m\u001b[38;5;132;01m%(levelname)s\u001b[39;00m\u001b[38;5;124m - \u001b[39m\u001b[38;5;132;01m%(message)s\u001b[39;00m\u001b[38;5;124m'\u001b[39m,\n\u001b[0;32m     47\u001b[0m     handlers\u001b[38;5;241m=\u001b[39m[\n\u001b[1;32m---> 48\u001b[0m         logging\u001b[38;5;241m.\u001b[39mFileHandler(log_filename),\n\u001b[0;32m     49\u001b[0m         logging\u001b[38;5;241m.\u001b[39mStreamHandler()\n\u001b[0;32m     50\u001b[0m     ]\n\u001b[0;32m     51\u001b[0m )\n\u001b[0;32m     53\u001b[0m \u001b[38;5;66;03m# Now logging calls will write to cifar10_experiments/epoch3_training.log\u001b[39;00m\n\u001b[0;32m     54\u001b[0m logging\u001b[38;5;241m.\u001b[39minfo(\u001b[38;5;124m\"\u001b[39m\u001b[38;5;124mTraining started for epoch \u001b[39m\u001b[38;5;132;01m%d\u001b[39;00m\u001b[38;5;124m\"\u001b[39m, epoch)\n",
      "\u001b[1;31mNameError\u001b[0m: name 'log_filename' is not defined"
     ]
    }
   ],
   "source": [
    "#@profile\n",
    "# Define a compiled function that takes factornet, samples, centers as inputs\n",
    "compiled_score = torch.compile(LearnCholesky.score_implicit_matching)\n",
    "\n",
    "def evaluate_model(factornet, kernel_centers, num_test_sample):\n",
    "    '''\n",
    "    Evaluate the model by computing the average total loss over 10 batch of testing samples\n",
    "    '''\n",
    "    with torch.no_grad():\n",
    "        total_loss_sum = 0\n",
    "        device = kernel_centers.device\n",
    "        for i in range(10):\n",
    "            p_samples = toy_data.inf_train_gen(dataset,batch_size = num_test_sample)\n",
    "            testing_samples = torch.as_tensor(p_samples, dtype=torch.float32, device=device)\n",
    "            total_loss = compiled_score(factornet, testing_samples, kernel_centers)\n",
    "            total_loss_sum += total_loss.item()\n",
    "             # Free up memory\n",
    "            del p_samples, testing_samples, total_loss\n",
    "            gc.collect() #only if using CPU\n",
    "            torch.cuda.empty_cache()  # Only if using GPU\n",
    "        average_total_loss = total_loss_sum / 10\n",
    "    return average_total_loss\n",
    "\n",
    "def save_training_slice_cov(factornet, means, epoch, lr, batch_size, loss_value, save):\n",
    "    '''\n",
    "    Save the training slice of the NN\n",
    "    '''\n",
    "    if save is not None:\n",
    "        torch.save(factornet.state_dict(), save + 'epoch' + str(epoch)  + 'lr' + str(lr) + 'batch_size' + str(batch_size) + 'model_weights.pth')\n",
    "        #save the centers\n",
    "        torch.save(means, save + 'epoch' + str(epoch) + 'centers.pth')\n",
    "\n",
    "def save_training_slice_log(factornet, means, epoch, lr, batch_size, loss_value, save):\n",
    "    '''\n",
    "    Save the training log for the slice\n",
    "    '''\n",
    "    if save is not None:\n",
    "        log_filename = os.path.join(save, f'epoch{epoch}_training.log')\n",
    "        # log training data\n",
    "        # Construct log filename\n",
    "\n",
    "\n",
    "# Configure logging to write to this dynamic file (and also console if you want)\n",
    "logging.basicConfig(\n",
    "    level=logging.INFO,\n",
    "    format='%(asctime)s - %(levelname)s - %(message)s',\n",
    "    handlers=[\n",
    "        logging.FileHandler(log_filename),\n",
    "        logging.StreamHandler()\n",
    "    ]\n",
    ")\n",
    "\n",
    "# Now logging calls will write to cifar10_experiments/epoch3_training.log\n",
    "logging.info(\"Training started for epoch %d\", epoch)"
   ]
  },
  {
   "cell_type": "markdown",
   "metadata": {},
   "source": [
    "### Initialize score network"
   ]
  },
  {
   "cell_type": "code",
   "execution_count": null,
   "metadata": {},
   "outputs": [],
   "source": [
    "\"\"\"\n",
    "# check the dataset\n",
    "dataset = args.data\n",
    "dataset = 'swissroll'\n",
    "# dataset = 'swissroll_6D_xy1'\n",
    "means  = torch.tensor(toy_data.inf_train_gen(dataset, batch_size = 1000)).to(dtype = torch.float32)\n",
    "data_dim = means.shape[1]\n",
    "print('data_dim',data_dim)\n",
    "\n",
    "blah = pd.DataFrame(means)\n",
    "pdsm(blah)\n",
    "\"\"\""
   ]
  },
  {
   "cell_type": "markdown",
   "metadata": {},
   "source": [
    "## Initialize Data using CIFAR-10\n"
   ]
  },
  {
   "cell_type": "code",
   "execution_count": 8,
   "metadata": {
    "tags": []
   },
   "outputs": [
    {
     "name": "stdout",
     "output_type": "stream",
     "text": [
      "tensor(-1.) tensor(1.)\n"
     ]
    },
    {
     "name": "stderr",
     "output_type": "stream",
     "text": [
      "C:\\Users\\pongd\\AppData\\Local\\Temp\\ipykernel_33036\\1167857191.py:5: UserWarning: To copy construct from a tensor, it is recommended to use sourceTensor.clone().detach() or sourceTensor.clone().detach().requires_grad_(True), rather than torch.tensor(sourceTensor).\n",
      "  means  = torch.tensor(toy_data.inf_train_gen(dataset, batch_size = train_kernel_size)).to(dtype = torch.float32)\n"
     ]
    },
    {
     "data": {
      "text/plain": [
       "'\"\" # not used anymore since our data is pictures\\nmeans  = torch.tensor(toy_data.inf_train_gen(dataset, batch_size = 1000)).to(dtype = torch.float32)\\ndata_dim = means.shape[1]\\nprint(\\'data_dim\\',data_dim)\\n\\nblah = pd.DataFrame(means)\\npdsm(blah)\\n'"
      ]
     },
     "execution_count": 8,
     "metadata": {},
     "output_type": "execute_result"
    }
   ],
   "source": [
    "# check the dataset\n",
    "torch.cuda.empty_cache()\n",
    "dataset = args.data\n",
    "dataset = 'cifar10'\n",
    "means  = torch.tensor(toy_data.inf_train_gen(dataset, batch_size = train_kernel_size)).to(dtype = torch.float32)\n",
    "data_dim = means.shape[1]\n",
    "del means\n",
    "torch.cuda.empty_cache()\n",
    "# dataset = 'swissroll_6D_xy1'\n",
    "\"\"\"\"\" # not used anymore since our data is pictures\n",
    "means  = torch.tensor(toy_data.inf_train_gen(dataset, batch_size = 1000)).to(dtype = torch.float32)\n",
    "data_dim = means.shape[1]\n",
    "print('data_dim',data_dim)\n",
    "\n",
    "blah = pd.DataFrame(means)\n",
    "pdsm(blah)\n",
    "\"\"\"\n"
   ]
  },
  {
   "cell_type": "code",
   "execution_count": 9,
   "metadata": {
    "tags": []
   },
   "outputs": [
    {
     "name": "stdout",
     "output_type": "stream",
     "text": [
      "tensor(-1.) tensor(1.)\n"
     ]
    },
    {
     "name": "stderr",
     "output_type": "stream",
     "text": [
      "C:\\Users\\pongd\\AppData\\Local\\Temp\\ipykernel_33036\\563120124.py:10: UserWarning: To copy construct from a tensor, it is recommended to use sourceTensor.clone().detach() or sourceTensor.clone().detach().requires_grad_(True), rather than torch.tensor(sourceTensor).\n",
      "  training_samples = torch.tensor(p_samples).to(dtype = torch.float32).to(device)\n"
     ]
    },
    {
     "name": "stdout",
     "output_type": "stream",
     "text": [
      "tensor(-1.) tensor(1.)\n"
     ]
    },
    {
     "name": "stderr",
     "output_type": "stream",
     "text": [
      "C:\\Users\\pongd\\AppData\\Local\\Temp\\ipykernel_33036\\563120124.py:11: UserWarning: To copy construct from a tensor, it is recommended to use sourceTensor.clone().detach() or sourceTensor.clone().detach().requires_grad_(True), rather than torch.tensor(sourceTensor).\n",
      "  centers  = torch.tensor(toy_data.inf_train_gen(dataset, batch_size = train_kernel_size)).to(dtype = torch.float32).to(device)\n"
     ]
    },
    {
     "data": {
      "text/plain": [
       "\"\\n# Training the score network\\nloss = evaluate_model(factornet, centers, test_samples_size)\\nformatted_loss = f'{loss:.3e}'  # Format the average with up to 1e-3 precision\\nprint(f'Before train, Average total_loss: {formatted_loss}')\\n\""
      ]
     },
     "execution_count": 9,
     "metadata": {},
     "output_type": "execute_result"
    }
   ],
   "source": [
    "depth = args.depth\n",
    "hidden_units = args.hiddenunits\n",
    "factornet = construct_factor_model(data_dim, depth, hidden_units).to(device).to(dtype = torch.float32)\n",
    "factornet = torch.compile(factornet, mode=\"reduce-overhead\")\n",
    "\n",
    "lr = args.lr\n",
    "optimizer = optim.Adam(factornet.parameters(), lr=args.lr)\n",
    "\n",
    "p_samples = toy_data.inf_train_gen(dataset,batch_size = train_samples_size)\n",
    "training_samples = torch.tensor(p_samples).to(dtype = torch.float32).to(device)\n",
    "centers  = torch.tensor(toy_data.inf_train_gen(dataset, batch_size = train_kernel_size)).to(dtype = torch.float32).to(device)\n",
    "\n",
    "epochs = args.niters\n",
    "batch_size = args.batch_size\n",
    "torch.save(centers, save_directory + str(epochs) + 'epochs' + str(train_kernel_size) + 'centers.pt')\n",
    "del p_samples\n",
    "\"\"\"\n",
    "# Training the score network\n",
    "loss = evaluate_model(factornet, centers, test_samples_size)\n",
    "formatted_loss = f'{loss:.3e}'  # Format the average with up to 1e-3 precision\n",
    "print(f'Before train, Average total_loss: {formatted_loss}')\n",
    "\"\"\""
   ]
  },
  {
   "cell_type": "code",
   "execution_count": null,
   "metadata": {
    "editable": true,
    "slideshow": {
     "slide_type": ""
    },
    "tags": []
   },
   "outputs": [],
   "source": [
    "#@profile\n",
    "gc.collect()\n",
    "torch.cuda.empty_cache()\n",
    "\n",
    "scaler = torch.amp.GradScaler('cuda') #mixed precision gradient scaler\n",
    "\n",
    "def opt_check(factornet, samples, centers):\n",
    "    optimizer.zero_grad()\n",
    "    loss = LearnCholesky.score_implicit_matching(factornet, samples, centers)  # autocast inside\n",
    "    scaler.scale(loss).backward() #loss.backward()\n",
    "    scaler.step(optimizer) #optimizer.step()\n",
    "    scaler.update()\n",
    "    return loss\n",
    "\n",
    "compiled_opt_check = torch.compile(opt_check)\n",
    "\n",
    "for step in trange(epochs, desc=\"Training\"):\n",
    "    randind = torch.randint(0, train_samples_size, [batch_size,])\n",
    "    samples = training_samples[randind, :]\n",
    "    \n",
    "    loss_value = compiled_opt_check(factornet, samples, centers).item()\n",
    "    print(f\"Peak memory usage: {torch.cuda.max_memory_allocated() / 2**30:.2f} GiB\")\n",
    "    if step % 4000 == 0:\n",
    "        print(f\"Step {step} started\")\n",
    "        print(f'Step: {step}, Loss value: {loss_value:.3e}')\n",
    "    \n",
    "    if step % 20000 == 0:\n",
    "        loss0 = evaluate_model(factornet, centers, test_samples_size)\n",
    "        save_training_slice_cov(factornet, centers, step, lr, batch_size, loss0, save_directory)\n",
    "\n",
    "    if step < epochs - 1:\n",
    "        del samples\n",
    "        gc.collect()\n",
    "        torch.cuda.empty_cache()\n"
   ]
  },
  {
   "cell_type": "code",
   "execution_count": null,
   "metadata": {
    "tags": []
   },
   "outputs": [],
   "source": [
    "loss0 = evaluate_model(factornet, centers, test_samples_size)    \n",
    "save_training_slice_cov(factornet, centers, step, lr, batch_size, loss0, save_directory)\n",
    "formatted_loss = f'{loss0:.3e}'  # Format the average with up to 1e-3 precision\n",
    "print(f'After train, Average total_loss: {formatted_loss}')"
   ]
  },
  {
   "cell_type": "code",
   "execution_count": null,
   "metadata": {},
   "outputs": [],
   "source": [
    "formatted_loss = f'{loss0:.3e}'  # Format the average with up to 1e-3 precision\n",
    "print(f'After train, Average total_loss: {formatted_loss}')"
   ]
  },
  {
   "cell_type": "code",
   "execution_count": null,
   "metadata": {},
   "outputs": [],
   "source": [
    "\n",
    "import time\n",
    "\n",
    "for step in range(epochs):\n",
    "    start = time.time()\n",
    "    # samples_toydata\n",
    "    randind = torch.randint(0,train_samples_size,[batch_size,])\n",
    "    samples = training_samples[randind,:]\n",
    "    loss_value = opt_check(factornet, samples, centers)\n",
    "    \"\"\"\n",
    "    loss = LearnCholesky.score_implicit_matching(factornet,samples,centers)\n",
    "    optimizer.zero_grad()\n",
    "    loss.backward()\n",
    "    optimizer.step()\n",
    "    \"\"\"\n",
    "   \n",
    "    \n",
    "    if not step % 4000:\n",
    "        #loss_value = loss.item()\n",
    "        print(f'Step: {step}, Loss value: {loss_value:.3e}')\n",
    "\n",
    "    if not step % 20000:\n",
    "        loss0 = evaluate_model(factornet, centers, test_samples_size)\n",
    "        save_training_slice_cov(factornet, centers, step, lr, batch_size, loss0, save_directory)\n",
    "    if step < epochs - 1:\n",
    "         # Free up memory\n",
    "        del samples # del loss\n",
    "        gc.collect()\n",
    "        torch.cuda.empty_cache()\n",
    "    print(\"Elapsed time:\", time.time() - start)\n",
    "    \n",
    "loss = evaluate_model(factornet, centers, test_samples_size)    \n",
    "save_training_slice_cov(factornet, centers, step, lr, batch_size, loss0, save_directory)\n",
    "formatted_loss = f'{loss:.3e}'  # Format the average with up to 1e-3 precision\n",
    "print(f'After train, Average total_loss: {formatted_loss}')"
   ]
  },
  {
   "cell_type": "code",
   "execution_count": 34,
   "metadata": {},
   "outputs": [
    {
     "name": "stdout",
     "output_type": "stream",
     "text": [
      "False\n",
      "Current working dir: c:\\Users\\pongd\\diffusion model research\\wpo_distill\n",
      "tensor(-1.) tensor(1.)\n"
     ]
    },
    {
     "name": "stderr",
     "output_type": "stream",
     "text": [
      "C:\\Users\\pongd\\AppData\\Local\\Temp\\ipykernel_33036\\4043436518.py:67: UserWarning: To copy construct from a tensor, it is recommended to use sourceTensor.clone().detach() or sourceTensor.clone().detach().requires_grad_(True), rather than torch.tensor(sourceTensor).\n",
      "  centers  = torch.tensor(toy_data.inf_train_gen(dataset, batch_size = train_kernel_size)).to(dtype = torch.float32).to(device)\n"
     ]
    },
    {
     "ename": "RuntimeError",
     "evalue": "PytorchStreamReader failed reading zip archive: failed finding central directory",
     "output_type": "error",
     "traceback": [
      "\u001b[1;31m---------------------------------------------------------------------------\u001b[0m",
      "\u001b[1;31mRuntimeError\u001b[0m                              Traceback (most recent call last)",
      "Cell \u001b[1;32mIn[34], line 68\u001b[0m\n\u001b[0;32m     66\u001b[0m model \u001b[38;5;241m=\u001b[39m construct_factor_model(data_dim, depth, hidden_units)\u001b[38;5;241m.\u001b[39mto(device)\u001b[38;5;241m.\u001b[39mto(dtype \u001b[38;5;241m=\u001b[39m torch\u001b[38;5;241m.\u001b[39mfloat32)\n\u001b[0;32m     67\u001b[0m centers  \u001b[38;5;241m=\u001b[39m torch\u001b[38;5;241m.\u001b[39mtensor(toy_data\u001b[38;5;241m.\u001b[39minf_train_gen(dataset, batch_size \u001b[38;5;241m=\u001b[39m train_kernel_size))\u001b[38;5;241m.\u001b[39mto(dtype \u001b[38;5;241m=\u001b[39m torch\u001b[38;5;241m.\u001b[39mfloat32)\u001b[38;5;241m.\u001b[39mto(device)\n\u001b[1;32m---> 68\u001b[0m model, centers \u001b[38;5;241m=\u001b[39m load_model(model, centers, \u001b[38;5;124m\"\u001b[39m\u001b[38;5;124mcifar10_experiments/test/sample_size5000/test_size5/batch_size2/centers50/lr0.0002/loaded/sample_size5000/test_size5/batch_size2/centers50/lr0.0002/epoch19999_factornet.pth\u001b[39m\u001b[38;5;124m\"\u001b[39m,\u001b[38;5;124m\"\u001b[39m\u001b[38;5;124mcifar10_experiments/test/sample_size5000/test_size5/batch_size2/centers50/lr0.0002/loaded/sample_size5000/test_size5/batch_size2/centers50/lr0.0002/centers.pt\u001b[39m\u001b[38;5;124m\"\u001b[39m)\n\u001b[0;32m     69\u001b[0m \u001b[38;5;66;03m#centers = torch.load(\"cifar10_experiments/test/sample_size500_test_size2_batch_size2_centers10_lr0.002centers.pt\", map_location=device)\u001b[39;00m\n\u001b[0;32m     70\u001b[0m model \u001b[38;5;241m=\u001b[39m model\u001b[38;5;241m.\u001b[39mto(\u001b[38;5;124m'\u001b[39m\u001b[38;5;124mcpu\u001b[39m\u001b[38;5;124m'\u001b[39m)\n",
      "Cell \u001b[1;32mIn[34], line 30\u001b[0m, in \u001b[0;36mload_model\u001b[1;34m(model, centers, load_model_path, load_centers_path)\u001b[0m\n\u001b[0;32m     26\u001b[0m \u001b[38;5;250m\u001b[39m\u001b[38;5;124;03m\"\"\"\u001b[39;00m\n\u001b[0;32m     27\u001b[0m \u001b[38;5;124;03mLoads model weights from the specified path.\u001b[39;00m\n\u001b[0;32m     28\u001b[0m \u001b[38;5;124;03m\"\"\"\u001b[39;00m\n\u001b[0;32m     29\u001b[0m \u001b[38;5;28;01mif\u001b[39;00m load_model_path \u001b[38;5;129;01mis\u001b[39;00m \u001b[38;5;129;01mnot\u001b[39;00m \u001b[38;5;28;01mNone\u001b[39;00m \u001b[38;5;129;01mand\u001b[39;00m os\u001b[38;5;241m.\u001b[39mpath\u001b[38;5;241m.\u001b[39mexists(load_model_path):\n\u001b[1;32m---> 30\u001b[0m     state_dict \u001b[38;5;241m=\u001b[39m torch\u001b[38;5;241m.\u001b[39mload(load_model_path, map_location\u001b[38;5;241m=\u001b[39mdevice)\n\u001b[0;32m     32\u001b[0m     \u001b[38;5;66;03m# Strip \"module.\" prefix if present\u001b[39;00m\n\u001b[0;32m     33\u001b[0m     \u001b[38;5;28;01mif\u001b[39;00m \u001b[38;5;28many\u001b[39m(k\u001b[38;5;241m.\u001b[39mstartswith(\u001b[38;5;124m\"\u001b[39m\u001b[38;5;124mmodule.\u001b[39m\u001b[38;5;124m\"\u001b[39m) \u001b[38;5;28;01mfor\u001b[39;00m k \u001b[38;5;129;01min\u001b[39;00m state_dict\u001b[38;5;241m.\u001b[39mkeys()):\n",
      "File \u001b[1;32mc:\\Users\\pongd\\anaconda3\\Lib\\site-packages\\torch\\serialization.py:1432\u001b[0m, in \u001b[0;36mload\u001b[1;34m(f, map_location, pickle_module, weights_only, mmap, **pickle_load_args)\u001b[0m\n\u001b[0;32m   1430\u001b[0m orig_position \u001b[38;5;241m=\u001b[39m opened_file\u001b[38;5;241m.\u001b[39mtell()\n\u001b[0;32m   1431\u001b[0m overall_storage \u001b[38;5;241m=\u001b[39m \u001b[38;5;28;01mNone\u001b[39;00m\n\u001b[1;32m-> 1432\u001b[0m \u001b[38;5;28;01mwith\u001b[39;00m _open_zipfile_reader(opened_file) \u001b[38;5;28;01mas\u001b[39;00m opened_zipfile:\n\u001b[0;32m   1433\u001b[0m     \u001b[38;5;28;01mif\u001b[39;00m _is_torchscript_zip(opened_zipfile):\n\u001b[0;32m   1434\u001b[0m         warnings\u001b[38;5;241m.\u001b[39mwarn(\n\u001b[0;32m   1435\u001b[0m             \u001b[38;5;124m\"\u001b[39m\u001b[38;5;124m'\u001b[39m\u001b[38;5;124mtorch.load\u001b[39m\u001b[38;5;124m'\u001b[39m\u001b[38;5;124m received a zip file that looks like a TorchScript archive\u001b[39m\u001b[38;5;124m\"\u001b[39m\n\u001b[0;32m   1436\u001b[0m             \u001b[38;5;124m\"\u001b[39m\u001b[38;5;124m dispatching to \u001b[39m\u001b[38;5;124m'\u001b[39m\u001b[38;5;124mtorch.jit.load\u001b[39m\u001b[38;5;124m'\u001b[39m\u001b[38;5;124m (call \u001b[39m\u001b[38;5;124m'\u001b[39m\u001b[38;5;124mtorch.jit.load\u001b[39m\u001b[38;5;124m'\u001b[39m\u001b[38;5;124m directly to\u001b[39m\u001b[38;5;124m\"\u001b[39m\n\u001b[0;32m   1437\u001b[0m             \u001b[38;5;124m\"\u001b[39m\u001b[38;5;124m silence this warning)\u001b[39m\u001b[38;5;124m\"\u001b[39m,\n\u001b[0;32m   1438\u001b[0m             \u001b[38;5;167;01mUserWarning\u001b[39;00m,\n\u001b[0;32m   1439\u001b[0m         )\n",
      "File \u001b[1;32mc:\\Users\\pongd\\anaconda3\\Lib\\site-packages\\torch\\serialization.py:763\u001b[0m, in \u001b[0;36m_open_zipfile_reader.__init__\u001b[1;34m(self, name_or_buffer)\u001b[0m\n\u001b[0;32m    762\u001b[0m \u001b[38;5;28;01mdef\u001b[39;00m \u001b[38;5;21m__init__\u001b[39m(\u001b[38;5;28mself\u001b[39m, name_or_buffer) \u001b[38;5;241m-\u001b[39m\u001b[38;5;241m>\u001b[39m \u001b[38;5;28;01mNone\u001b[39;00m:\n\u001b[1;32m--> 763\u001b[0m     \u001b[38;5;28msuper\u001b[39m()\u001b[38;5;241m.\u001b[39m\u001b[38;5;21m__init__\u001b[39m(torch\u001b[38;5;241m.\u001b[39m_C\u001b[38;5;241m.\u001b[39mPyTorchFileReader(name_or_buffer))\n",
      "\u001b[1;31mRuntimeError\u001b[0m: PytorchStreamReader failed reading zip archive: failed finding central directory"
     ]
    }
   ],
   "source": [
    "gc.collect()\n",
    "torch.cuda.empty_cache()\n",
    "def plot_images(means, precisions, epoch = 0, plot_number = 10, save_path=None):\n",
    "    # plots plot_number samples from the trained model for image data\n",
    "    num_components = means.shape[0]\n",
    "    # sample from the multivariate normal distribution\n",
    "    comp_num = torch.randint(0, num_components, (1,plot_number)) #shape: [1, plot_number]\n",
    "    comp_num = comp_num.squeeze(0)  # shape: [plot_number]\n",
    "    multivariate_normal = torch.distributions.MultivariateNormal(means[comp_num], precision_matrix=precisions[comp_num])\n",
    "    samples = multivariate_normal.rsample()\n",
    "    # transform images back to original data \n",
    "    samples = samples.view(-1, 3, 32, 32)\n",
    "    samples = samples * 0.5 + 0.5\n",
    "    fig, axs = plt.subplots(1, plot_number, figsize=(15, 2))\n",
    "    for i in range(plot_number):\n",
    "        img = samples[i].permute(1, 2, 0).cpu().numpy()  # change from [C, H, W] to [H, W, C]\n",
    "        axs[i].imshow(img)\n",
    "        axs[i].axis('off')\n",
    "    if save_path is not None:\n",
    "        save_path = save_path + 'epoch'+ str(epoch) + '.png'\n",
    "        plt.savefig(save_path)\n",
    "    \n",
    "\n",
    "    return None\n",
    "def load_model(model, centers, load_model_path, load_centers_path):   \n",
    "    \"\"\"\n",
    "    Loads model weights from the specified path.\n",
    "    \"\"\"\n",
    "    if load_model_path is not None and os.path.exists(load_model_path):\n",
    "        state_dict = torch.load(load_model_path, map_location=device)\n",
    "        \n",
    "        # Strip \"module.\" prefix if present\n",
    "        if any(k.startswith(\"module.\") for k in state_dict.keys()):\n",
    "            from collections import OrderedDict\n",
    "            new_state_dict = OrderedDict()\n",
    "            for k, v in state_dict.items():\n",
    "                new_state_dict[k.replace(\"module.\", \"\")] = v\n",
    "            state_dict = new_state_dict\n",
    "        \n",
    "        # Strip \"_orig_mod.\" prefix if present\n",
    "        if any(k.startswith(\"_orig_mod.\") for k in state_dict.keys()):\n",
    "            from collections import OrderedDict\n",
    "            new_state_dict = OrderedDict()\n",
    "            for k, v in state_dict.items():\n",
    "                new_state_dict[k.replace(\"_orig_mod.\", \"\")] = v\n",
    "            state_dict = new_state_dict\n",
    "        \n",
    "        model.load_state_dict(state_dict)\n",
    "        logging.info(f\"Loaded model weights from {load_model_path}\")\n",
    "    \n",
    "    if load_centers_path is not None and os.path.exists(load_centers_path):\n",
    "        centers = torch.load(load_centers_path, map_location=device)\n",
    "        logging.info(f\"Loaded centers from {load_centers_path}\")\n",
    "    else:\n",
    "        print(f\"No model loaded. Path does not exist: {load_model_path}\")\n",
    "    \n",
    "    return model, centers\n",
    "\n",
    "\n",
    "# sample from trained model\n",
    "# and plot density\n",
    "#file /wpo_distill/cifar10_experiments/test/epoch499model_weights.pth\n",
    "#factornet.load_state_dict(torch.load('wpo_distill/cifar10_experiments/test/epoch499model_weights.pth'))\n",
    "print(os.path.exists(\"/workspace/cifar10_experiments/test/epoch1501model_weights.pth\"))\n",
    "print(\"Current working dir:\", os.getcwd())\n",
    "model = construct_factor_model(data_dim, depth, hidden_units).to(device).to(dtype = torch.float32)\n",
    "centers  = torch.tensor(toy_data.inf_train_gen(dataset, batch_size = train_kernel_size)).to(dtype = torch.float32).to(device)\n",
    "model, centers = load_model(model, centers, \"cifar10_experiments/test/sample_size5000/test_size5/batch_size2/centers50/lr0.0002/loaded/sample_size5000/test_size5/batch_size2/centers50/lr0.0002/epoch19999_factornet.pth\",\"cifar10_experiments/test/sample_size5000/test_size5/batch_size2/centers50/lr0.0002/loaded/sample_size5000/test_size5/batch_size2/centers50/lr0.0002/centers.pt\")\n",
    "#centers = torch.load(\"cifar10_experiments/test/sample_size500_test_size2_batch_size2_centers10_lr0.002centers.pt\", map_location=device)\n",
    "model = model.to('cpu')\n",
    "centers = centers.to('cpu')\n",
    "#model.load_state_dict(torch.load(\"/workspace/cifar10_experiments/test/epoch1501model_weights.pth\"))\n",
    "epochs = 23000\n",
    "\n",
    "\"\"\"\n",
    "with torch.no_grad():\n",
    "        \n",
    "    precisions = LearnCholesky.vectors_to_precision(model(centers),data_dim)\n",
    "\n",
    "    plot_images(centers, precisions, epoch = epochs, plot_number=10, save_path=save_directory + 'samples')\n",
    "\"\"\"\n",
    "\"\"\" I think this will not work for general (centers needs to be same as before to plot properly)\n",
    "randind = torch.randint(0,1000,[1000,])\n",
    "centers = means[randind,:].to(device)\n",
    "precisions = LearnCholesky.vectors_to_precision(factornet(centers),data_dim)\n",
    "\n",
    "LearnCholesky.scatter_samples_from_model(centers, precisions, dim1 = 0, dim2 = 1,save_path=save_directory + 'samples.png')\n",
    "LearnCholesky.plot_density_2d_marg(centers,factornet,dim1 = 0, dim2 = 1, save_path=save_directory + 'density.png')\n",
    "\"\"\"\n",
    "plt.show()"
   ]
  },
  {
   "cell_type": "code",
   "execution_count": null,
   "metadata": {},
   "outputs": [
    {
     "name": "stdout",
     "output_type": "stream",
     "text": [
      "Saving images to: cifar10_experiments/test/epoch0testing\n"
     ]
    },
    {
     "name": "stderr",
     "output_type": "stream",
     "text": [
      "WARNING:matplotlib.image:Clipping input data to the valid range for imshow with RGB data ([0..1] for floats or [0..255] for integers).\n",
      "WARNING:matplotlib.image:Clipping input data to the valid range for imshow with RGB data ([0..1] for floats or [0..255] for integers).\n",
      "WARNING:matplotlib.image:Clipping input data to the valid range for imshow with RGB data ([0..1] for floats or [0..255] for integers).\n",
      "WARNING:matplotlib.image:Clipping input data to the valid range for imshow with RGB data ([0..1] for floats or [0..255] for integers).\n",
      "WARNING:matplotlib.image:Clipping input data to the valid range for imshow with RGB data ([0..1] for floats or [0..255] for integers).\n",
      "WARNING:matplotlib.image:Clipping input data to the valid range for imshow with RGB data ([0..1] for floats or [0..255] for integers).\n",
      "WARNING:matplotlib.image:Clipping input data to the valid range for imshow with RGB data ([0..1] for floats or [0..255] for integers).\n"
     ]
    },
    {
     "name": "stdout",
     "output_type": "stream",
     "text": [
      "Sample stats: -25.275033950805664 31.093318939208984 -0.06293138861656189\n"
     ]
    },
    {
     "name": "stderr",
     "output_type": "stream",
     "text": [
      "WARNING:matplotlib.image:Clipping input data to the valid range for imshow with RGB data ([0..1] for floats or [0..255] for integers).\n",
      "WARNING:matplotlib.image:Clipping input data to the valid range for imshow with RGB data ([0..1] for floats or [0..255] for integers).\n",
      "WARNING:matplotlib.image:Clipping input data to the valid range for imshow with RGB data ([0..1] for floats or [0..255] for integers).\n"
     ]
    },
    {
     "data": {
      "image/png": "[encoded data removed]",
      "text/plain": [
       "<Figure size 1500x200 with 10 Axes>"
      ]
     },
     "metadata": {},
     "output_type": "display_data"
    }
   ],
   "source": [
    "def sample_from_model(factornet, means, sample_number):\n",
    "    num_components, dim = means.shape\n",
    "    comp_num = torch.randint(0, num_components, (sample_number,), device=means.device)\n",
    "    samples = torch.empty(sample_number, dim, device=means.device)\n",
    "\n",
    "    unique_indices = comp_num.unique()\n",
    "\n",
    "    for i in unique_indices:\n",
    "        idx = (comp_num == i).nonzero(as_tuple=True)[0]\n",
    "        n_i = idx.shape[0]\n",
    "        centers_i = means[i].unsqueeze(0).expand(n_i, -1)  # [n_i, dim]\n",
    "\n",
    "        # Get model output vectors (flattened Cholesky)\n",
    "        vectors = factornet(centers_i)  # [n_i, d*(d+1)//2]\n",
    "\n",
    "        # Use your existing function to get precision matrix with stabilization\n",
    "        precision = LearnCholesky.vectors_to_precision(vectors, dim)  # [n_i, dim, dim]\n",
    "\n",
    "        # Create multivariate normal with precision matrix\n",
    "        mvn = MultivariateNormal(loc=centers_i, precision_matrix=precision)\n",
    "\n",
    "        # Sample from this distribution\n",
    "        samples_i = mvn.rsample()  # [n_i, dim]\n",
    "\n",
    "        samples[idx] = samples_i\n",
    "\n",
    "    return samples\n",
    "\n",
    "\n",
    "import torch\n",
    "import matplotlib.pyplot as plt\n",
    "import torchvision.transforms as T\n",
    "\n",
    "def plot_images_with_model(factornet, means, plot_number=10, save_path=None):\n",
    "    # sample from the model\n",
    "    num_components = means.shape[0]\n",
    "    dim = means.shape[-1]\n",
    "\n",
    "    # sample [plot_number, dim] from model\n",
    "    samples = sample_from_model(factornet, means, plot_number)\n",
    "\n",
    "    print(\"Sample stats:\", samples.min().item(), samples.max().item(), samples.mean().item())\n",
    "\n",
    "    # reshape to [N, 3, 32, 32] if needed\n",
    "    samples = samples.view(-1, 3, 32, 32)\n",
    "\n",
    "    # unnormalize from [-1, 1] back to [0, 1]\n",
    "    samples_unnorm = samples * 0.5 + 0.5\n",
    "\n",
    "    # convert to uint8 for PIL\n",
    "    samples_img = (samples_unnorm * 255).clamp(0, 255).to(torch.uint8)\n",
    "\n",
    "    # display one sample\n",
    "    \"\"\"\n",
    "    to_pil = T.ToPILImage()\n",
    "    img = to_pil(samples_img[0].cpu())\n",
    "    img.show()\n",
    "    \"\"\"\n",
    "\n",
    "    # plot multiple samples\n",
    "    fig, axs = plt.subplots(1, plot_number, figsize=(15, 2))\n",
    "    for i in range(plot_number):\n",
    "        img_np = samples_unnorm[i].permute(1, 2, 0).cpu().numpy()  # [C,H,W] -> [H,W,C]\n",
    "        axs[i].imshow(img_np)\n",
    "        axs[i].axis('off')\n",
    "\n",
    "    if save_path is not None:\n",
    "        save_path = save_path + '_sampled_images.png'\n",
    "        plt.savefig(save_path)\n",
    "\n",
    "    return None\n",
    "\n",
    "\n",
    "with torch.no_grad():\n",
    "    filename_final = save_directory + 'epoch' + str(epochs) + 'testing'\n",
    "    print(\"Saving images to:\", filename_final)\n",
    "    # sample from the trained model\n",
    "    plot_images_with_model(model, centers, plot_number=10, save_path=filename_final)\n",
    "plt.show()"
   ]
  },
  {
   "cell_type": "code",
   "execution_count": null,
   "metadata": {},
   "outputs": [],
   "source": [
    "import gc\n",
    "import torch\n",
    "\n",
    "gc.collect()\n",
    "torch.cuda.empty_cache()\n",
    "\n",
    "# Load model and checkpoint\n",
    "model = construct_factor_model(data_dim, depth, hidden_units).to(device).to(dtype=torch.float32)\n",
    "state_dict = torch.load(\"cifar10_experiments/test/sample_size500_test_size2_batch_size2_centers10_lr0.002_epoch0009_factornet.pth\", map_location=device)\n",
    "\n",
    "new_state_dict = {}\n",
    "for k, v in state_dict.items():\n",
    "    new_key = k\n",
    "    if k.startswith(\"module.\"):\n",
    "        new_key = k[len(\"module.\"):]  # Remove 'module.' prefix\n",
    "    new_state_dict[new_key] = v\n",
    "centers  = torch.tensor(toy_data.inf_train_gen(dataset, batch_size = train_kernel_size)).to(dtype = torch.float32).to(device)\n",
    "load_result = model.load_state_dict(new_state_dict)\n",
    "\n",
    "centers = torch.load(\"cifar10_experiments/test/sample_size500_test_size2_batch_size2_centers10_lr0.002centers.pt\", map_location='cpu')\n",
    "centers = centers.to('cpu')\n",
    "\n",
    "with torch.no_grad():\n",
    "    precisions = LearnCholesky.vectors_to_precision(model(centers), data_dim)\n",
    "precisions = precisions.to('cpu')\n",
    "\n",
    "plot_images(centers, precisions, epoch=epochs, plot_number=10, save_path=save_directory + 'samples')\n"
   ]
  },
  {
   "cell_type": "code",
   "execution_count": null,
   "metadata": {},
   "outputs": [],
   "source": [
    "# LearnCholesky.scatter_samples_from_model(centers, precisions, dim1 = 2, dim2 = 3, save_path=save_directory + 'samples.png')\n",
    "# LearnCholesky.plot_density_2d_marg(centers,factornet, dim1 = 2, dim2 = 3, save_path=save_directory + 'density.png')\n",
    "# LearnCholesky.scatter_samples_from_model(centers, precisions, dim1 = 4, dim2 = 5,  save_path=save_directory + 'samples.png')\n",
    "# LearnCholesky.plot_density_2d_marg(centers,factornet, dim1 = 4, dim2 = 5,save_path=save_directory + 'density.png')"
   ]
  }
 ],
 "metadata": {
  "environment": {
   "kernel": "conda-base-py",
   "name": "workbench-notebooks.m129",
   "type": "gcloud",
   "uri": "us-docker.pkg.dev/deeplearning-platform-release/gcr.io/workbench-notebooks:m129"
  },
  "kernelspec": {
   "display_name": "base",
   "language": "python",
   "name": "python3"
  },
  "language_info": {
   "codemirror_mode": {
    "name": "ipython",
    "version": 3
   },
   "file_extension": ".py",
   "mimetype": "text/x-python",
   "name": "python",
   "nbconvert_exporter": "python",
   "pygments_lexer": "ipython3",
   "version": "3.12.4"
  }
 },
 "nbformat": 4,
 "nbformat_minor": 4
}
